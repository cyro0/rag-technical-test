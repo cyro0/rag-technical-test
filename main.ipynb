{
 "cells": [
  {
   "cell_type": "markdown",
   "metadata": {},
   "source": [
    "### Langchain dependencies"
   ]
  },
  {
   "cell_type": "code",
   "execution_count": null,
   "metadata": {},
   "outputs": [],
   "source": [
    "from langchain.document_loaders.pdf import PyPDFDirectoryLoader # Importing PDF loader from Langchain\n",
    "from langchain.text_splitter import RecursiveCharacterTextSplitter # Importing text splitter from Langchain\n",
    "from langchain_huggingface import HuggingFaceEmbeddings # Importing Huggingface embeddings from Langchain\n",
    "from langchain_huggingface import ChatHuggingFace, HuggingFaceEndpoint # Import Huggingface Chat models from Langchain \n",
    "from langchain.schema import Document # Importing Document schema from Langchain\n",
    "from langchain.vectorstores.chroma import Chroma # Import Chroma vector store from Langchain\n",
    "from langchain_core.prompts import ChatPromptTemplate # Import Chat Prompt Template from Langchain\n",
    "from dotenv import load_dotenv # Importing dotenv to get API key from .env file\n",
    "import os # Importing os module for operating system functionalities\n",
    "import shutil # Importing shutil module for high-level file operations\n",
    "import getpass # Importing getpass module to transfer API Key"
   ]
  },
  {
   "cell_type": "markdown",
   "metadata": {},
   "source": [
    "### API Token for Embedding function and to call Phi-3 LLM"
   ]
  },
  {
   "cell_type": "code",
   "execution_count": null,
   "metadata": {},
   "outputs": [],
   "source": [
    "os.environ[\"HUGGINGFACEHUB_API_TOKEN\"] = getpass.getpass(\"Enter your Hugging Face API key: \")"
   ]
  },
  {
   "cell_type": "markdown",
   "metadata": {},
   "source": [
    "### Setup ChromaDB (can be skipped if Vector database was already created)"
   ]
  },
  {
   "cell_type": "code",
   "execution_count": null,
   "metadata": {},
   "outputs": [],
   "source": [
    "# Directory to pdf files:\n",
    "DATA_PATH = 'data'\n",
    "def load_documents():\n",
    "    \"\"\"\n",
    "    Load PDF Docs from specified directory in DATA_PATH\n",
    "    return:\n",
    "    Loaded PDF represented as Langchain Document objects\n",
    "    \"\"\"\n",
    "\n",
    "    # Initialize PDF loader with specified directory\n",
    "    document_loader = PyPDFDirectoryLoader(DATA_PATH)\n",
    "    # Load PDF Docs and return them as a list of Document objects\n",
    "    return document_loader.load()\n",
    "\n",
    "documents = load_documents()\n",
    "# Inspect contents of the first document as well as the metadata\n",
    "print(documents[0])"
   ]
  },
  {
   "cell_type": "code",
   "execution_count": null,
   "metadata": {},
   "outputs": [],
   "source": [
    "def split_text_into_chunks(documents: list[Document]):\n",
    "    \"\"\"\n",
    "    Split text content of given list of Documents into smaller chunks\n",
    "    args:\n",
    "    document (list[Document]): List of Document objects containing text content\n",
    "    return:\n",
    "    list[Document]: List of Document objects representing the split chunks\n",
    "    \"\"\"\n",
    "\n",
    "    # Initialize text splitter with following parameters\n",
    "    text_splitter = RecursiveCharacterTextSplitter(\n",
    "        chunk_size=300, # Size of each chunk in characters\n",
    "        chunk_overlap=100, # Overlap between consecutive chunks\n",
    "        length_function=len, # Function to compute length of given text\n",
    "        add_start_index=True # Flag to add start index to each chunk\n",
    "    )\n",
    "\n",
    "    # Split documents into smaller chunks using text splitter\n",
    "    chunks = text_splitter.split_documents(documents)\n",
    "    print(f\"Split {len(documents)} documents into {len(chunks)} chunks\")\n",
    "\n",
    "    # Print example of page content and metadata for a chunk\n",
    "    document = chunks[0]\n",
    "    print(f\"Example of chunk: \\n {document.page_content} \\n \\n {document.metadata}\")\n",
    "\n",
    "    return chunks"
   ]
  },
  {
   "cell_type": "code",
   "execution_count": null,
   "metadata": {},
   "outputs": [],
   "source": [
    "# Path to directory to save Chroma database\n",
    "CHROMA_PATH = \"chroma\"\n",
    "\n",
    "def save_to_chroma(chunks: list[Document]):\n",
    "    \"\"\"\n",
    "    Save a given list of Document objects to the Chroma database.\n",
    "    args:\n",
    "    chunks (list[Document]): List of Document objects representing text chunks to save\n",
    "    returns:\n",
    "    None\n",
    "    \"\"\"\n",
    "\n",
    "    # Clear out database directory if it already exists\n",
    "    if os.path.exists(CHROMA_PATH):\n",
    "        shutil.rmtree(CHROMA_PATH)\n",
    "\n",
    "    # Create new Chroma database from the documents provided\n",
    "    db = Chroma.from_documents(\n",
    "        chunks,\n",
    "        HuggingFaceEmbeddings(),\n",
    "        persist_directory = CHROMA_PATH\n",
    "    )\n",
    "\n",
    "    # Persist the database to disk\n",
    "    db.persist()\n",
    "    print(f\"Saved {len(chunks)} chunks to {CHROMA_PATH}.\")"
   ]
  },
  {
   "cell_type": "code",
   "execution_count": null,
   "metadata": {},
   "outputs": [],
   "source": [
    "def generate_vector_database():\n",
    "    \"\"\"\n",
    "    Function to generate vector database in Chroma from provided documents\n",
    "    \"\"\"\n",
    "    documents = load_documents()\n",
    "    chunks = split_text_into_chunks(documents)\n",
    "    save_to_chroma(chunks)\n",
    "\n",
    "# Load environment variables from .env file\n",
    "load_dotenv()\n",
    "# Generate the vector database\n",
    "generate_vector_database()"
   ]
  },
  {
   "cell_type": "markdown",
   "metadata": {},
   "source": [
    "### Use LLM with the contents from the database as context"
   ]
  },
  {
   "cell_type": "code",
   "execution_count": null,
   "metadata": {},
   "outputs": [],
   "source": [
    "print(\"Enter prompt: \")\n",
    "query_text = input()"
   ]
  },
  {
   "cell_type": "code",
   "execution_count": null,
   "metadata": {},
   "outputs": [],
   "source": [
    "PROMPT_TEMPLATE = \"\"\"\n",
    "Answer the question based only on the following context:\n",
    "{context}\n",
    " - - \n",
    "Answer the question based on the above context: {question}\n",
    "\"\"\""
   ]
  },
  {
   "cell_type": "code",
   "execution_count": null,
   "metadata": {},
   "outputs": [],
   "source": [
    "def query_rag(query_text):\n",
    "    \"\"\"\n",
    "    Query a RAG system using Chroma database and HuggingFace\n",
    "    args:\n",
    "    query_text(str): The text to query the RAG system with\n",
    "    returns:\n",
    "    formatted_response(str): Formatted response including the generated text\n",
    "    response_text(str): The generated response text\n",
    "    \"\"\"\n",
    "    # Use the same embedding function as before when creating a Chroma database\n",
    "    embedding_function = HuggingFaceEmbeddings()\n",
    "\n",
    "    # Prepare database\n",
    "    db = Chroma(persist_directory=CHROMA_PATH, embedding_function=embedding_function)\n",
    "\n",
    "    # Retrieving the context from the DB using similiarity search\n",
    "    results = db.similarity_search_with_relevance_scores(query_text, k=3)\n",
    "\n",
    "    # Combine context from matching documents\n",
    "    context_text = \"\\n\\n - - \\n\\n\".join([doc.page_content for doc, _score in results])\n",
    "\n",
    "    # Create prompt template using context and query text\n",
    "    prompt_template = ChatPromptTemplate.from_template(PROMPT_TEMPLATE)\n",
    "    prompt = prompt_template.format(context=context_text, question=query_text)\n",
    "\n",
    "    # Initialize HuggingFace chat model\n",
    "    llm = HuggingFaceEndpoint(\n",
    "    repo_id=\"microsoft/Phi-3-mini-4k-instruct\",\n",
    "    task=\"text-generation\",\n",
    "    max_new_tokens=1024,\n",
    "    do_sample=False,\n",
    "    repetition_penalty=1.03,\n",
    "    )\n",
    "\n",
    "    model = ChatHuggingFace(llm=llm)\n",
    "\n",
    "    # Generate response text from given chat model based on the prompt\n",
    "    response_text = model.predict(prompt)\n",
    "\n",
    "    # Get sources of the matching documents\n",
    "    sources = [doc.metadata.get(\"source\", None) for doc, _score in results]\n",
    "\n",
    "    # Format and return response including generated text and sources\n",
    "    formatted_response = f\"Response: {response_text}\\nSources: {sources}\"\n",
    "\n",
    "    return formatted_response, response_text\n",
    "\n",
    "formatted_response, response_text = query_rag(query_text)\n",
    "print(response_text)\n",
    "\n"
   ]
  }
 ],
 "metadata": {
  "kernelspec": {
   "display_name": ".venv_311",
   "language": "python",
   "name": "python3"
  },
  "language_info": {
   "codemirror_mode": {
    "name": "ipython",
    "version": 3
   },
   "file_extension": ".py",
   "mimetype": "text/x-python",
   "name": "python",
   "nbconvert_exporter": "python",
   "pygments_lexer": "ipython3",
   "version": "3.11.5"
  }
 },
 "nbformat": 4,
 "nbformat_minor": 2
}
