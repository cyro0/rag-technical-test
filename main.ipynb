{
 "cells": [
  {
   "cell_type": "code",
   "execution_count": null,
   "metadata": {},
   "outputs": [],
   "source": [
    "# Langchain dependencies\n",
    "from langchain.document_loaders.pdf import PyPDFDirectoryLoader # Importing PDF loader from Langchain\n",
    "from langchain.text_splitter import RecursiveCharacterTextSplitter # Importing text splitter from Langchain\n",
    "from langchain.embeddings import OpenAIEmbeddings # Importing OpenAI embeddings from Langchain\n",
    "from langchain.schema import Document # Importing Document schema from Langchain\n",
    "from langchain.vectorstores.chroma import Chroma # Importing Chroma vector store from Langchain\n",
    "from dotenv import load_dotenv # Importing dotenv to get API key from .env file\n",
    "from langchain.chat_models import ChatOpenAI # Import OpenAI LLM\n",
    "import os # Importing os module for operating system functionalities\n",
    "import shutil # Importing shutil module for high-level file operations"
   ]
  },
  {
   "cell_type": "code",
   "execution_count": null,
   "metadata": {},
   "outputs": [],
   "source": [
    "# Directory to pdf files:\n",
    "DATA_PATH = '/data/'\n",
    "def load_documents():\n",
    "    \"\"\"\n",
    "    Load PDF Docs from specified directory in DATA_PATH\n",
    "    return:\n",
    "    Loaded PDF represented as Langchain Document objects\n",
    "    \"\"\"\n",
    "\n",
    "    # Initialize PDF loader with specified directory\n",
    "    document_loader = PyPDFDirectoryLoader(DATA_PATH)\n",
    "    # Load PDF Docs and return them as a list of Document objects\n",
    "    return document_loader.load()\n",
    "\n",
    "documents = load_documents()\n",
    "# Inspect contents of the first document as well as the metadata\n",
    "print(documents[0])"
   ]
  },
  {
   "cell_type": "code",
   "execution_count": null,
   "metadata": {},
   "outputs": [],
   "source": [
    "def split_text_into_chunks(documents: list[Document]):\n",
    "    \"\"\"\n",
    "    Split text content of given list of Documents into smaller chunks\n",
    "    args:\n",
    "    document (list[Document]): List of Document objects containing text content\n",
    "    return:\n",
    "    list[Document]: List of Document objects representing the split chunks\n",
    "    \"\"\"\n",
    "\n",
    "    # Initialize text splitter with following parameters\n",
    "    text_splitter = RecursiveCharacterTextSplitter(\n",
    "        chunk_size=300, # Size of each chunk in characters\n",
    "        chunk_overlap=100, # Overlap between consecutive chunks\n",
    "        length_function=len, # Function to compute length of given text\n",
    "        add_start_index=True # Flag to add start index to each chunk\n",
    "    )\n",
    "\n",
    "    # Split documents into smaller chunks using text splitter\n",
    "    chunks = text_splitter.split_documents(documents)\n",
    "    print(f\"Split {len(documents)} documents into {len(chunks)} chunks\")\n",
    "\n",
    "    # Print example of page content and metadata for a chunk\n",
    "    document = chunks[0]\n",
    "    print(f\"Example of chunk: \\n {document.page_content} \\n \\n {document.metadata}\")\n",
    "\n",
    "    return chunks"
   ]
  }
 ],
 "metadata": {
  "kernelspec": {
   "display_name": ".venv",
   "language": "python",
   "name": "python3"
  },
  "language_info": {
   "name": "python",
   "version": "3.13.1"
  }
 },
 "nbformat": 4,
 "nbformat_minor": 2
}
